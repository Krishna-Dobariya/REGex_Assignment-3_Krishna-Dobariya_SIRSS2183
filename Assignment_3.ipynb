{
  "nbformat": 4,
  "nbformat_minor": 0,
  "metadata": {
    "colab": {
      "name": "Assignment 3.ipynb",
      "provenance": [],
      "collapsed_sections": []
    },
    "kernelspec": {
      "name": "python3",
      "display_name": "Python 3"
    },
    "language_info": {
      "name": "python"
    }
  },
  "cells": [
    {
      "cell_type": "markdown",
      "metadata": {
        "id": "LKmDBaBy3ydZ"
      },
      "source": [
        "### Q1 Write a function to return nth term of Fibonacci sequence."
      ]
    },
    {
      "cell_type": "code",
      "metadata": {
        "colab": {
          "base_uri": "https://localhost:8080/"
        },
        "id": "o4A47VSL2IQ1",
        "outputId": "caf394b7-1479-48e6-aa69-942c2e4462d0"
      },
      "source": [
        "def fibo(n):\n",
        "    a=1\n",
        "    b=1\n",
        "    if n==1:\n",
        "        print('0')\n",
        "    elif n==2:\n",
        "        print('0','1')\n",
        "    else:\n",
        "        print('0',a,b,end=' ')\n",
        "        for i in range(n-3):\n",
        "            total = a + b\n",
        "            b=a\n",
        "            a= total\n",
        "            print(total,end=' ')\n",
        "        \n",
        "        \n",
        "         \n",
        "n=int(input(\"Enter the number:\"))\n",
        "fibo(n)"
      ],
      "execution_count": null,
      "outputs": [
        {
          "output_type": "stream",
          "name": "stdout",
          "text": [
            "Enter the number:10\n",
            "0 1 1 2 3 5 8 13 21 34 "
          ]
        }
      ]
    },
    {
      "cell_type": "markdown",
      "metadata": {
        "id": "Q93LokA737Kr"
      },
      "source": [
        "### Q2 Write a function to find out GCD of two numbers using EUCLID'S algorithm."
      ]
    },
    {
      "cell_type": "code",
      "metadata": {
        "colab": {
          "base_uri": "https://localhost:8080/"
        },
        "id": "YIx-0i5l25Ai",
        "outputId": "1ce888b6-be0d-4c53-df5b-a6e148181311"
      },
      "source": [
        "def gcd(a,b):\n",
        "     \n",
        "  \n",
        "    if (a == 0):\n",
        "        return b\n",
        "    if (b == 0):\n",
        "        return a\n",
        " \n",
        "   \n",
        "    if (a == b):\n",
        "        return a\n",
        " \n",
        "    \n",
        "    if (a > b):\n",
        "        return gcd(a-b, b)\n",
        "    return gcd(a, b-a)\n",
        " \n",
        "a = int(input(\"enter first number \"))\n",
        "b = int(input(\"enter second number \"))\n",
        "if(gcd(a, b)):\n",
        "    print('GCD of', a, 'and', b, 'is', gcd(a, b))\n",
        "else:\n",
        "    print('not found')"
      ],
      "execution_count": null,
      "outputs": [
        {
          "output_type": "stream",
          "name": "stdout",
          "text": [
            "enter first number 12\n",
            "enter second number 21\n",
            "GCD of 12 and 21 is 3\n"
          ]
        }
      ]
    },
    {
      "cell_type": "markdown",
      "metadata": {
        "id": "_F__L1Ww4IWw"
      },
      "source": [
        "### Q3 Write a function to find LCM of two number in most optimizers way."
      ]
    },
    {
      "cell_type": "code",
      "metadata": {
        "colab": {
          "base_uri": "https://localhost:8080/"
        },
        "id": "nWvt8O083KAH",
        "outputId": "29666030-ad76-492b-f757-5d3bc0b008f3"
      },
      "source": [
        "def lcm(a, b):\n",
        "\n",
        "   if a > b:\n",
        "       greater = a\n",
        "   else:\n",
        "       greater = b\n",
        "\n",
        "   while(True):\n",
        "       if((greater % a == 0) and (greater % b == 0)):\n",
        "           lcm = greater\n",
        "           break\n",
        "       greater += 1\n",
        "\n",
        "   return lcm\n",
        "\n",
        "a = int (input (\"Enter the 1st number: \"))\n",
        "b = int (input (\"Enter the 2nd number: \"))\n",
        "\n",
        "print(\"LCM of\", a, \"and\", b, \"is\", lcm(a, b))"
      ],
      "execution_count": null,
      "outputs": [
        {
          "output_type": "stream",
          "name": "stdout",
          "text": [
            "Enter the 1st number: 15\n",
            "Enter the 2nd number: 12\n",
            "LCM of 15 and 12 is 60\n"
          ]
        }
      ]
    },
    {
      "cell_type": "code",
      "metadata": {
        "id": "g9AiXk0p3Yro"
      },
      "source": [
        ""
      ],
      "execution_count": null,
      "outputs": []
    }
  ]
}